{
 "cells": [
  {
   "cell_type": "code",
   "execution_count": 1,
   "metadata": {},
   "outputs": [],
   "source": [
    "import control as ct\n",
    "import numpy as np\n",
    "import scipy as sc\n",
    "import pymor"
   ]
  },
  {
   "cell_type": "code",
   "execution_count": 2,
   "metadata": {},
   "outputs": [],
   "source": [
    "from pymor.operators.numpy import NumpyMatrixOperator\n",
    "from pymor.models.iosys import SecondOrderModel"
   ]
  },
  {
   "cell_type": "code",
   "execution_count": 3,
   "metadata": {},
   "outputs": [],
   "source": [
    "n = 100;  # VELICINA SUSTAVA\n",
    "i1 = 0;   # POZICIJA 1. PRIGUSIVACA\n",
    "i2 = 1;   # POZICIJA 2. PRIGUSIVACA\n",
    "v1 = 200; # VISKOZNOST 1. PRIGUSIVACA\n",
    "v2 = 100; # VISKOZNOST 2. PRIGUSIVACA\n",
    "p = 0.5;  # MJESOVITA H2 MJERA [0, 1]"
   ]
  },
  {
   "cell_type": "code",
   "execution_count": 4,
   "metadata": {},
   "outputs": [],
   "source": [
    "M  = np.matrix(np.zeros((n, n)));\n",
    "K  = np.matrix(np.zeros((n, n)));\n",
    "B  = np.matrix(np.zeros((n, 5)));\n",
    "Cp = np.matrix(np.zeros((10, n)));\n",
    "Cv = np.matrix(np.zeros((10, n)));\n",
    "\n",
    "B[0:5, 0:5]    = np.matrix(np.diag(range(1, 6)));\n",
    "Cp[0:10, 45:55] = np.matrix(np.eye(10));\n",
    "Cv = Cp;\n",
    "\n",
    "for i in range(n):\n",
    "    M[i, i] = 200 - 2 * (i + 1) if i < 50 else i + 1 + 50;\n",
    "    K[i, i] = 200;\n",
    "    if i > 0:\n",
    "        K[i, i - 1] = -100;\n",
    "    \n",
    "    if i < n - 1:\n",
    "        K[i, i + 1] = -100;\n",
    "        \n",
    "sM = np.sqrt(M);\n",
    "isM = np.linalg.inv(sM);\n",
    "E = 0.04 * sM @ np.matrix(sc.linalg.sqrtm(isM @ K @ isM)) * sM;\n",
    "\n",
    "E[i1, i1] += v1;\n",
    "E[i2, i2] += v2;"
   ]
  },
  {
   "cell_type": "code",
   "execution_count": 40,
   "metadata": {},
   "outputs": [],
   "source": [
    "def Mixed_Norm(M, E, K, B, Cv, Cp, p):\n",
    "    n = M.shape[0];\n",
    "    Zg    = 1 / n * np.matrix(np.eye(n));\n",
    "    \n",
    "    ## -p * B * B.T - (1 - p) * Zg\n",
    "    ## -B_M * B_M.T\n",
    "    ## -[(sqrt(p) * B) * (sqrt(p) * B.T) + sqrt(1 - p) * sqrt(Zg) * sqrt\n",
    "    \n",
    "    sp    = np.sqrt(p);\n",
    "    ssp   = np.sqrt(1 - p);\n",
    "    ##B_M   = sp * B + ssp * sc.linalg.sqrtm(Zg);\n",
    "    M     = NumpyMatrixOperator(M);\n",
    "    E     = NumpyMatrixOperator(E);\n",
    "    K     = NumpyMatrixOperator(K);\n",
    "    B     = NumpyMatrixOperator(B);\n",
    "    Cv    = NumpyMatrixOperator(Cv);\n",
    "    Cp    = NumpyMatrixOperator(Cp);\n",
    "    \n",
    "    # Model = SecondOrderModel(M, E, K, B_M, Cv, Cp);\n",
    "    Model = SecondOrderModel(M, E, K, B, Cv, Cp);\n",
    "    \n",
    "    return Model.h2_norm();"
   ]
  },
  {
   "cell_type": "code",
   "execution_count": 41,
   "metadata": {},
   "outputs": [],
   "source": [
    "def Mixed_H2Norm(M, E, K, B, Cv, Cp, p):\n",
    "    n    = M.shape[0];\n",
    "    Zg   = 1 / (2 * n) * np.matrix(np.eye(2 * n));\n",
    "    invM = np.linalg.inv(M);\n",
    "    A    = np.block([[np.zeros((n, n)), np.eye(n)],\n",
    "                  [-invM * K, -invM * E]\n",
    "                 ]);\n",
    "    \n",
    "    Bt   = (1 - p) * Zg + p * np.block([[np.zeros((n, n)), np.zeros((n, n))],\n",
    "                                        [np.zeros((n, n)), invM @ B @ B.T @ invM]]);\n",
    "    \n",
    "    C = sc.linalg.block_diag(Cp, Cv);\n",
    "    \n",
    "    X = ct.lyap(A, Bt @ Bt.T);\n",
    "    print(X.shape)\n",
    "    print(C.shape)\n",
    "    pr = C.T @ C @ X;\n",
    "    return np.sqrt(np.trace(pr));\n",
    "    "
   ]
  },
  {
   "cell_type": "code",
   "execution_count": 44,
   "metadata": {},
   "outputs": [
    {
     "name": "stdout",
     "output_type": "stream",
     "text": [
      "(200, 200)\n",
      "(20, 200)\n"
     ]
    },
    {
     "data": {
      "text/plain": [
       "0.011362934400636383"
      ]
     },
     "execution_count": 44,
     "metadata": {},
     "output_type": "execute_result"
    }
   ],
   "source": [
    "Mixed_H2Norm(M, E, K, B, Cv, Cp, 1)"
   ]
  },
  {
   "cell_type": "code",
   "execution_count": 43,
   "metadata": {},
   "outputs": [
    {
     "data": {
      "text/plain": [
       "0.4748625989581703"
      ]
     },
     "execution_count": 43,
     "metadata": {},
     "output_type": "execute_result"
    }
   ],
   "source": [
    "Mixed_Norm(M, E, K, B, Cv, Cp, 0)"
   ]
  },
  {
   "cell_type": "code",
   "execution_count": null,
   "metadata": {},
   "outputs": [],
   "source": []
  }
 ],
 "metadata": {
  "kernelspec": {
   "display_name": "Python 3",
   "language": "python",
   "name": "python3"
  },
  "language_info": {
   "codemirror_mode": {
    "name": "ipython",
    "version": 3
   },
   "file_extension": ".py",
   "mimetype": "text/x-python",
   "name": "python",
   "nbconvert_exporter": "python",
   "pygments_lexer": "ipython3",
   "version": "3.7.4"
  }
 },
 "nbformat": 4,
 "nbformat_minor": 2
}
