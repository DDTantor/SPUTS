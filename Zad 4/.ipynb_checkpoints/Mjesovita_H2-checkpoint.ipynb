{
 "cells": [
  {
   "cell_type": "code",
   "execution_count": 1,
   "metadata": {},
   "outputs": [],
   "source": [
    "import control as ct\n",
    "import numpy as np\n",
    "import scipy as sc\n",
    "import pymor"
   ]
  },
  {
   "cell_type": "code",
   "execution_count": 2,
   "metadata": {},
   "outputs": [],
   "source": [
    "from pymor.operators.numpy import NumpyMatrixOperator\n",
    "from pymor.operators.constructions import ZeroOperator\n",
    "\n",
    "from pymor.models.iosys import SecondOrderModel\n",
    "from pymor.models.iosys import LTIModel\n",
    "from pymor.algorithms.to_matrix import to_matrix"
   ]
  },
  {
   "cell_type": "code",
   "execution_count": 3,
   "metadata": {},
   "outputs": [],
   "source": [
    "n = 100;  # VELICINA SUSTAVA\n",
    "i1 = 0;   # POZICIJA 1. PRIGUSIVACA\n",
    "i2 = 1;   # POZICIJA 2. PRIGUSIVACA\n",
    "v1 = 200; # VISKOZNOST 1. PRIGUSIVACA\n",
    "v2 = 100; # VISKOZNOST 2. PRIGUSIVACA\n",
    "p = 0.5;  # MJESOVITA H2 MJERA [0, 1]"
   ]
  },
  {
   "cell_type": "code",
   "execution_count": 4,
   "metadata": {},
   "outputs": [],
   "source": [
    "M  = np.matrix(np.zeros((n, n)));\n",
    "K  = np.matrix(np.zeros((n, n)));\n",
    "B  = np.matrix(np.zeros((n, 5)));\n",
    "Cp = np.matrix(np.zeros((10, n)));\n",
    "Cv = np.matrix(np.zeros((10, n)));\n",
    "\n",
    "B[0:5, 0:5]    = np.matrix(np.diag(range(1, 6)));\n",
    "Cp[0:10, 45:55] = np.matrix(np.eye(10));\n",
    "Cv = Cp;\n",
    "\n",
    "for i in range(n):\n",
    "    M[i, i] = 200 - 2 * (i + 1) if i < 50 else i + 1 + 50;\n",
    "    K[i, i] = 200;\n",
    "    if i > 0:\n",
    "        K[i, i - 1] = -100;\n",
    "    \n",
    "    if i < n - 1:\n",
    "        K[i, i + 1] = -100;\n",
    "        \n",
    "sM = np.sqrt(M);\n",
    "isM = np.linalg.inv(sM);\n",
    "E = 0.04 * sM @ np.matrix(sc.linalg.sqrtm(isM @ K @ isM)) * sM;\n",
    "\n",
    "E[i1, i1] += v1;\n",
    "E[i2, i2] += v2;"
   ]
  },
  {
   "cell_type": "code",
   "execution_count": 27,
   "metadata": {},
   "outputs": [],
   "source": [
    "def Mixed_H2_Norm(M, E, K, B, Cv, Cp, T, p = 0):\n",
    "    # RAČUNA Mješovitu H2 Normu sustava drugog reda danom matricama\n",
    "    # Ukoliko p = 0, vraca H2 Normu\n",
    "    \n",
    "    n = M.shape[0];\n",
    "    \n",
    "    Zg    = 1 / (2 * n) * np.matrix(np.eye(2 * n));\n",
    "    M     = NumpyMatrixOperator(M);\n",
    "    E     = NumpyMatrixOperator(E);\n",
    "    K     = NumpyMatrixOperator(K);\n",
    "    B     = NumpyMatrixOperator(B);\n",
    "    Cv    = NumpyMatrixOperator(Cv);\n",
    "    Cp    = NumpyMatrixOperator(Cp);\n",
    "    \n",
    "    Model = SecondOrderModel(M, E, K, B, Cv, Cp);\n",
    "    # print(\"H2 norma\", Model.h2_norm())\n",
    "    LTI = Model.to_lti();\n",
    "    A = to_matrix(LTI.A, format = \"dense\");\n",
    "    B = to_matrix(LTI.B, format = \"dense\");\n",
    "    C = to_matrix(LTI.C, format = \"dense\");\n",
    "    E = to_matrix(LTI.E, format = \"dense\");\n",
    "    \n",
    "    \n",
    "    A = NumpyMatrixOperator(A);\n",
    "    C = NumpyMatrixOperator(C);\n",
    "    E = NumpyMatrixOperator(E);\n",
    "    \n",
    "    # MORAMO OVO JER BB.T NIJE POZITIVNO DEFINITNA\n",
    "    if p == 1:\n",
    "        B_new = NumpyMatrixOperator(B);\n",
    "    else:\n",
    "        B_new = p * B @ B.T + (1 - p) * T @ Zg @ T.T;\n",
    "        B_new = NumpyMatrixOperator(np.linalg.cholesky(B_new));\n",
    "    \n",
    "    D = ZeroOperator(C.range, B_new.source);\n",
    "    LTI = LTIModel(A, B_new, C, D, E);\n",
    "    return LTI.h2_norm();"
   ]
  },
  {
   "cell_type": "code",
   "execution_count": 28,
   "metadata": {},
   "outputs": [
    {
     "name": "stdout",
     "output_type": "stream",
     "text": [
      "Mješovita H2 Norma = 0.4748625989581703 za p = 1\n"
     ]
    }
   ],
   "source": [
    "p = 1;\n",
    "print(\"Mješovita H2 Norma = {} za p = {}\".format(Mixed_H2_Norm(M, E, K, B, Cv, Cp, np.matrix(np.eye(2 * n)), p), p));"
   ]
  },
  {
   "cell_type": "code",
   "execution_count": null,
   "metadata": {},
   "outputs": [],
   "source": []
  }
 ],
 "metadata": {
  "kernelspec": {
   "display_name": "Python 3",
   "language": "python",
   "name": "python3"
  },
  "language_info": {
   "codemirror_mode": {
    "name": "ipython",
    "version": 3
   },
   "file_extension": ".py",
   "mimetype": "text/x-python",
   "name": "python",
   "nbconvert_exporter": "python",
   "pygments_lexer": "ipython3",
   "version": "3.7.4"
  }
 },
 "nbformat": 4,
 "nbformat_minor": 2
}
