{
 "cells": [
  {
   "cell_type": "code",
   "execution_count": 3,
   "metadata": {},
   "outputs": [],
   "source": [
    "import control as ct\n",
    "import numpy as np\n",
    "import scipy as sc\n",
    "import pymor"
   ]
  },
  {
   "cell_type": "code",
   "execution_count": 14,
   "metadata": {},
   "outputs": [],
   "source": [
    "n = 100;  # VELICINA SUSTAVA\n",
    "i1 = 0;   # POZICIJA 1. PRIGUSIVACA\n",
    "i2 = 1;   # POZICIJA 2. PRIGUSIVACA\n",
    "v1 = 200; # VISKOZNOST 1. PRIGUSIVACA\n",
    "v2 = 100; # VISKOZNOST 2. PRIGUSIVACA"
   ]
  },
  {
   "cell_type": "code",
   "execution_count": 10,
   "metadata": {},
   "outputs": [],
   "source": [
    "M = np.matrix(np.zeros((n, n)));\n",
    "K = np.matrix(np.zeros((n, n)));\n",
    "\n",
    "for i in range(n):\n",
    "    M[i, i] = 200 - 2 * (i + 1) if i < 50 else i + 1 + 50;\n",
    "    K[i, i] = 200;\n",
    "    if i > 0:\n",
    "        K[i, i - 1] = -100;\n",
    "    \n",
    "    if i < n - 1:\n",
    "        K[i, i + 1] = -100;\n",
    "        \n",
    "sM = np.sqrt(M);\n",
    "isM = np.inv(sM);\n",
    "E = 0.04 * sM @ sqrt(isM @ K @ isM) * sM;\n",
    "\n",
    "E[i1, i1] += v1;\n",
    "E[i2, i2] += v2;\n",
    "\n"
   ]
  },
  {
   "cell_type": "code",
   "execution_count": 12,
   "metadata": {},
   "outputs": [
    {
     "data": {
      "text/plain": [
       "matrix([[14.07124728,  0.        ,  0.        , ...,  0.        ,\n",
       "          0.        ,  0.        ],\n",
       "        [ 0.        , 14.        ,  0.        , ...,  0.        ,\n",
       "          0.        ,  0.        ],\n",
       "        [ 0.        ,  0.        , 13.92838828, ...,  0.        ,\n",
       "          0.        ,  0.        ],\n",
       "        ...,\n",
       "        [ 0.        ,  0.        ,  0.        , ..., 12.16552506,\n",
       "          0.        ,  0.        ],\n",
       "        [ 0.        ,  0.        ,  0.        , ...,  0.        ,\n",
       "         12.20655562,  0.        ],\n",
       "        [ 0.        ,  0.        ,  0.        , ...,  0.        ,\n",
       "          0.        , 12.24744871]])"
      ]
     },
     "execution_count": 12,
     "metadata": {},
     "output_type": "execute_result"
    }
   ],
   "source": [
    "np.sqrt(M)"
   ]
  },
  {
   "cell_type": "code",
   "execution_count": null,
   "metadata": {},
   "outputs": [],
   "source": []
  }
 ],
 "metadata": {
  "kernelspec": {
   "display_name": "Python 3",
   "language": "python",
   "name": "python3"
  },
  "language_info": {
   "codemirror_mode": {
    "name": "ipython",
    "version": 3
   },
   "file_extension": ".py",
   "mimetype": "text/x-python",
   "name": "python",
   "nbconvert_exporter": "python",
   "pygments_lexer": "ipython3",
   "version": "3.7.4"
  }
 },
 "nbformat": 4,
 "nbformat_minor": 2
}
