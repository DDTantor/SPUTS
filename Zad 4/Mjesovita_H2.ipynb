{
 "cells": [
  {
   "cell_type": "code",
   "execution_count": 3,
   "metadata": {},
   "outputs": [],
   "source": [
    "import control as ct\n",
    "import numpy as np\n",
    "import scipy as sc\n",
    "import pymor"
   ]
  },
  {
   "cell_type": "code",
   "execution_count": 53,
   "metadata": {},
   "outputs": [],
   "source": [
    "n = 100;  # VELICINA SUSTAVA\n",
    "i1 = 0;   # POZICIJA 1. PRIGUSIVACA\n",
    "i2 = 1;   # POZICIJA 2. PRIGUSIVACA\n",
    "v1 = 200; # VISKOZNOST 1. PRIGUSIVACA\n",
    "v2 = 100; # VISKOZNOST 2. PRIGUSIVACA\n",
    "p = 0.5;  # MJESOVITA H2 MJERA [0, 1]"
   ]
  },
  {
   "cell_type": "code",
   "execution_count": 55,
   "metadata": {},
   "outputs": [],
   "source": [
    "M  = np.matrix(np.zeros((n, n)));\n",
    "K  = np.matrix(np.zeros((n, n)));\n",
    "B  = np.matrix(np.zeros((n, 5)));\n",
    "Cp = np.matrix(np.zeros((10, n)));\n",
    "Cv = np.matrix(np.zeros((10, n)));\n",
    "Zg = 1 / n * np.matrix(np.eye(n));\n",
    "\n",
    "B[0:5, 0:5]    = np.matrix(np.diag(range(1, 6)));\n",
    "C1[0:10, 45:55] = np.matrix(np.eye(10));\n",
    "C2 = C1;\n",
    "\n",
    "for i in range(n):\n",
    "    M[i, i] = 200 - 2 * (i + 1) if i < 50 else i + 1 + 50;\n",
    "    K[i, i] = 200;\n",
    "    if i > 0:\n",
    "        K[i, i - 1] = -100;\n",
    "    \n",
    "    if i < n - 1:\n",
    "        K[i, i + 1] = -100;\n",
    "        \n",
    "sM = np.sqrt(M);\n",
    "isM = np.linalg.inv(sM);\n",
    "E = 0.04 * sM @ np.matrix(sc.linalg.sqrtm(isM @ K @ isM)) * sM;\n",
    "\n",
    "E[i1, i1] += v1;\n",
    "E[i2, i2] += v2;"
   ]
  },
  {
   "cell_type": "code",
   "execution_count": 56,
   "metadata": {},
   "outputs": [
    {
     "ename": "AttributeError",
     "evalue": "module 'pymor' has no attribute 'models'",
     "output_type": "error",
     "traceback": [
      "\u001b[0;31m---------------------------------------------------------------------------\u001b[0m",
      "\u001b[0;31mAttributeError\u001b[0m                            Traceback (most recent call last)",
      "\u001b[0;32m<ipython-input-56-58a84aef327a>\u001b[0m in \u001b[0;36m<module>\u001b[0;34m\u001b[0m\n\u001b[0;32m----> 1\u001b[0;31m \u001b[0mSUSTAV\u001b[0m \u001b[0;34m=\u001b[0m \u001b[0mpymor\u001b[0m\u001b[0;34m.\u001b[0m\u001b[0mmodels\u001b[0m\u001b[0;34m.\u001b[0m\u001b[0miosys\u001b[0m\u001b[0;34m.\u001b[0m\u001b[0mSecondOrderModel\u001b[0m\u001b[0;34m(\u001b[0m\u001b[0mM\u001b[0m\u001b[0;34m,\u001b[0m \u001b[0mE\u001b[0m\u001b[0;34m,\u001b[0m \u001b[0mK\u001b[0m\u001b[0;34m,\u001b[0m \u001b[0mB\u001b[0m\u001b[0;34m,\u001b[0m \u001b[0mCp\u001b[0m\u001b[0;34m,\u001b[0m \u001b[0mCv\u001b[0m\u001b[0;34m)\u001b[0m\u001b[0;34m\u001b[0m\u001b[0;34m\u001b[0m\u001b[0m\n\u001b[0m",
      "\u001b[0;31mAttributeError\u001b[0m: module 'pymor' has no attribute 'models'"
     ]
    }
   ],
   "source": [
    "SUSTAV = pymor.models.iosys.SecondOrderModel(M, E, K, B, Cp, Cv)"
   ]
  },
  {
   "cell_type": "code",
   "execution_count": null,
   "metadata": {},
   "outputs": [],
   "source": []
  }
 ],
 "metadata": {
  "kernelspec": {
   "display_name": "Python 3",
   "language": "python",
   "name": "python3"
  },
  "language_info": {
   "codemirror_mode": {
    "name": "ipython",
    "version": 3
   },
   "file_extension": ".py",
   "mimetype": "text/x-python",
   "name": "python",
   "nbconvert_exporter": "python",
   "pygments_lexer": "ipython3",
   "version": "3.7.4"
  }
 },
 "nbformat": 4,
 "nbformat_minor": 2
}
